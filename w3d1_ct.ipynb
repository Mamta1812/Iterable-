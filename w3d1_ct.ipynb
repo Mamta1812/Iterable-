{
  "nbformat": 4,
  "nbformat_minor": 0,
  "metadata": {
    "colab": {
      "provenance": []
    },
    "kernelspec": {
      "name": "python3",
      "display_name": "Python 3"
    },
    "language_info": {
      "name": "python"
    }
  },
  "cells": [
    {
      "cell_type": "code",
      "execution_count": null,
      "metadata": {
        "colab": {
          "base_uri": "https://localhost:8080/"
        },
        "id": "BUMjFMP_Alm-",
        "outputId": "474997de-23cb-4c7c-8529-7a53922376ad"
      },
      "outputs": [
        {
          "output_type": "stream",
          "name": "stdout",
          "text": [
            "2,10\n",
            "3,9\n",
            "4,8\n",
            "5,7\n",
            "6,6\n",
            "7,5\n",
            "8,4\n",
            "9,3\n",
            "10,2\n",
            "9\n"
          ]
        }
      ],
      "source": [
        "# wap to get 2 number between 1 to 10 whose sum is 12 using while loop .\n",
        "n1 = 2\n",
        "count = 0\n",
        "while n1 < 11 :\n",
        "  sum = 12\n",
        "  n2 = sum - n1\n",
        "  print(f\"{n1},{n2}\")\n",
        "  n1 = n1 + 1\n",
        "  count = count + 1\n",
        "print(count)"
      ]
    },
    {
      "cell_type": "code",
      "source": [
        "# wap to get 2 number between 1 to 10 whose sum is 12 using for loop .\n",
        "count = 0\n",
        "for i in range(2,11):\n",
        "  if i < 11:\n",
        "    sum = 12\n",
        "    n = sum - i\n",
        "    print(f\"{i},{n}\")\n",
        "    count = count + 1\n",
        "print(count)"
      ],
      "metadata": {
        "colab": {
          "base_uri": "https://localhost:8080/"
        },
        "id": "Bj_B45-_HTtO",
        "outputId": "9c5296da-1fd4-47cf-f064-f13bcda8f9ac"
      },
      "execution_count": null,
      "outputs": [
        {
          "output_type": "stream",
          "name": "stdout",
          "text": [
            "2,10\n",
            "3,9\n",
            "4,8\n",
            "5,7\n",
            "6,6\n",
            "7,5\n",
            "8,4\n",
            "9,3\n",
            "10,2\n",
            "9\n"
          ]
        }
      ]
    },
    {
      "cell_type": "markdown",
      "source": [
        "--------------- Data types----------------"
      ],
      "metadata": {
        "id": "4b_-3_bKKqeB"
      }
    },
    {
      "cell_type": "code",
      "source": [
        "# --------- list ------------\n",
        "# list :\n",
        "#        access value through index, it allows duplicate, mutable, ordered.\n",
        "# take an input from the user for a list\n",
        "\n",
        "list = []\n",
        "# now we require the length of the list and the elements of the list so\n",
        "n = int(input(\"Enter the number of elements you want in the list : \"))\n",
        "#itterating till the range\n",
        "for i in range(0,n):\n",
        "  elements = int(input(\"Elements of the list : \"))\n",
        "  #adding elements to the list\n",
        "  list.append(elements)\n",
        "\n",
        "print(list)\n",
        "print(type(list))\n",
        "\n",
        "print()\n",
        "\n",
        "# mutability in the list.\n",
        "l1 = [1,2,3,1,3]\n",
        "print(l1)\n",
        "l1[3] = 9\n",
        "print(l1)"
      ],
      "metadata": {
        "colab": {
          "base_uri": "https://localhost:8080/"
        },
        "id": "hhhj6zqzEj-l",
        "outputId": "f90a3241-2f55-4403-95c2-0f493f446843"
      },
      "execution_count": null,
      "outputs": [
        {
          "output_type": "stream",
          "name": "stdout",
          "text": [
            "Enter the number of elements you want in the list : 1\n",
            "Elements of the list : 2\n",
            "[2]\n",
            "<class 'list'>\n",
            "\n",
            "[1, 2, 3, 1, 3]\n",
            "[1, 2, 3, 9, 3]\n"
          ]
        }
      ]
    },
    {
      "cell_type": "code",
      "source": [
        "# --------- Tuple ------------\n",
        "# Tuple :\n",
        "#        access value through index, it allows duplicate, not mutable, ordered.\n",
        "t1 = (1,2,2,2,3,1,4,5,6,9,7)\n",
        "print(type(t1))\n",
        "print(t1)\n",
        "# The variable that are never to be modified are stored like bank account number.\n",
        "weekdays = (\"Sunday\",\"Monday\",\"Tuesday\",\"Wednesday\",\"Thursday\",\"friday\",\"saturay\")\n",
        "print(weekdays[:4])\n",
        "print(weekdays[-1])\n",
        "if \"Monday\" in weekdays:\n",
        "  print(\"Monday is present\")\n",
        "\n",
        "# type casting and bellow two programs are done in tuple is done w2d2 last program.\n",
        "# update tuple ? == NO\n",
        "# workaround : convert to list , update , Conver back to tuple\n",
        "#how to delete a value in tuple\n",
        "p = (1,23,6,4,5,8,7445,566512)\n",
        "print(p)\n",
        "del(p)# tuple p is deleted.\n",
        "\n"
      ],
      "metadata": {
        "colab": {
          "base_uri": "https://localhost:8080/"
        },
        "id": "zp17RgJAY26i",
        "outputId": "f51ab2f4-98b1-48d9-b4d3-2b402bd366c3"
      },
      "execution_count": null,
      "outputs": [
        {
          "output_type": "stream",
          "name": "stdout",
          "text": [
            "<class 'tuple'>\n",
            "(1, 2, 2, 2, 3, 1, 4, 5, 6, 9, 7)\n",
            "('Sunday', 'Monday', 'Tuesday', 'Wednesday')\n",
            "saturay\n",
            "Monday is present\n",
            "(1, 23, 6, 4, 5, 8, 7445, 566512)\n"
          ]
        }
      ]
    },
    {
      "cell_type": "code",
      "source": [
        "# ----------- SET ------------\n",
        "# set :\n",
        "#       cannot access value through index,\n",
        "#         doesnot allow duplicates,\n",
        "#           mutable,\n",
        "#             not ordered\n",
        "s1 = {1,2,3,4,5,6,7}\n",
        "for i in s1:\n",
        "  print(i)\n",
        "# add elements to a set : add\n",
        "print(\"Enter 3 user name\")\n",
        "user_name = {\"iop\", \"kk\", \"ll\"}\n",
        "for i in range(3):\n",
        "  name = input()\n",
        "  user_name.add(name)  # here it is add insted of append because elements are unique and not in order.\n",
        "print(user_name)\n",
        "# removing a element from a list\n",
        "s1.remove(5)\n",
        "print(s1)"
      ],
      "metadata": {
        "colab": {
          "base_uri": "https://localhost:8080/"
        },
        "id": "T1rWml9EaDBg",
        "outputId": "350db35e-4417-4c1b-e105-3d487cd89f44"
      },
      "execution_count": null,
      "outputs": [
        {
          "output_type": "stream",
          "name": "stdout",
          "text": [
            "1\n",
            "2\n",
            "3\n",
            "4\n",
            "5\n",
            "6\n",
            "7\n",
            "Enter 3 user name\n",
            "4\n",
            "6\n",
            "6\n",
            "{'4', 'iop', 'll', '6', 'kk'}\n",
            "{1, 2, 3, 4, 6, 7}\n"
          ]
        }
      ]
    },
    {
      "cell_type": "code",
      "source": [
        "# remove an element from the set with out using remove function .\n",
        "set1 = set()\n",
        "length_set = int(input(\"Enter the number of elements u want in the set:\"))\n",
        "for i in range(length_set):\n",
        "  elements = int(input(\"Enteer the elements in the set :\"))\n",
        "  set1.add(elements)\n",
        "print(set1)\n",
        "\n",
        "targeted_element = int(input(\"Enter the element u want to remove from the set:\"))\n",
        "set2 = set()\n",
        "for i in set1:\n",
        "    if i != targeted_element :\n",
        "      set2.add(i)\n",
        "print(set2)"
      ],
      "metadata": {
        "colab": {
          "base_uri": "https://localhost:8080/"
        },
        "id": "kkbLAM9Zp8NU",
        "outputId": "28abba54-4d1b-444c-bc7f-c9edb6df6b83"
      },
      "execution_count": null,
      "outputs": [
        {
          "output_type": "stream",
          "name": "stdout",
          "text": [
            "Enter the number of elements u want in the set:5\n",
            "Enteer the elements in the set :4\n",
            "Enteer the elements in the set :2\n",
            "Enteer the elements in the set :3\n",
            "Enteer the elements in the set :6\n",
            "Enteer the elements in the set :5\n",
            "{2, 3, 4, 5, 6}\n",
            "5\n",
            "{2, 3, 4, 6}\n"
          ]
        }
      ]
    },
    {
      "cell_type": "code",
      "source": [
        " # remove duplicates from a list and print\n",
        "lst1 = [7,8,7,5,6,4,3,2,2,6,5,]\n",
        "st = set(lst1)\n",
        "nst = list(st)\n",
        "print(nst)\n",
        "\n",
        "# here the conversion of list to set and set again to list is also done as bellow .\n",
        "lst2 = [7,8,7,5,6,4,10,45,56,3,2,2,6,5,]\n",
        "lst2 = list(set(lst2)) # here is the one line code.\n",
        "print(lst2)"
      ],
      "metadata": {
        "colab": {
          "base_uri": "https://localhost:8080/"
        },
        "id": "-9U8j-dK2IWK",
        "outputId": "8b9561b1-bcab-438b-aa16-9edb50b64456"
      },
      "execution_count": null,
      "outputs": [
        {
          "output_type": "stream",
          "name": "stdout",
          "text": [
            "[2, 3, 4, 5, 6, 7, 8]\n",
            "[2, 3, 4, 5, 6, 7, 8, 10, 45, 56]\n"
          ]
        }
      ]
    },
    {
      "cell_type": "code",
      "source": [
        "# wap to remove duplicate elements from a list with out using set function.\n",
        "lt1 = [1,4,5,2,1,4,85,9,6,5,6,2]\n",
        "newlt = []\n",
        "for i in lt1:           # here the iteration on the list is done till the last element.\n",
        "  if i not in newlt :   # here the condition that the repeated elements shold not enter the new list is given\n",
        "    newlt.append(i)     # here the function append is use to insert new and non repeating values are used.\n",
        "print(newlt)            # printing the new list with no repeation .\n"
      ],
      "metadata": {
        "colab": {
          "base_uri": "https://localhost:8080/"
        },
        "id": "OhON9jht2lVg",
        "outputId": "74e1ef97-4721-4735-8f1a-f831d8a27d33"
      },
      "execution_count": null,
      "outputs": [
        {
          "output_type": "stream",
          "name": "stdout",
          "text": [
            "[1, 4, 5, 2, 85, 9, 6]\n"
          ]
        }
      ]
    },
    {
      "cell_type": "markdown",
      "source": [
        "--------------------- Dictionary ---------------------"
      ],
      "metadata": {
        "id": "VYlLr9FP2waa"
      }
    },
    {
      "cell_type": "code",
      "source": [
        "# Dictionary : key : value pair\n",
        "user_data = {\n",
        "    \"name\":\"jagat \",\n",
        "    \"age\":\"25\",\n",
        "    \"phonenumber\":\"122233334567888\"\n",
        "    }\n",
        "print(type(user_data))\n",
        "print(user_data)\n",
        "print(user_data[\"name\"])\n",
        "print(user_data[\"age\"])\n",
        "print(user_data[\"phonenumber\"])\n",
        "print()\n",
        "\n",
        "# iteration on the dictionary.\n",
        "for item in user_data:\n",
        "  print(f\"{item}:{user_data[item]}\")\n",
        "\n",
        "\n",
        "# use case of dictionary :\n",
        "# no sql database => key ,value pair\n",
        "# JSON\n",
        "# configuration files\n",
        "# twitter_id\n",
        "std_data = {\n",
        "    \"name\":\"jagat \",\n",
        "    \"age\":15,\n",
        "    \"phone\":25648783542315489,\n",
        "    \"points\":[10,20,30],\n",
        "    \"grade\" :(\"A\",\"B\",\"C\"),\n",
        "    \"subjects_marks\":{\n",
        "        \"math\":90,\n",
        "        \"sci\":95,\n",
        "        \"eng\":100\n",
        "    }\n",
        "}\n",
        "#pritn the name of the student\n",
        "print(std_data[\"name\"])\n",
        "#pritn the age of the student\n",
        "print(std_data[\"age\"])\n",
        "#pritn the grade of the student\n",
        "print(std_data[\"grade\"])\n",
        "#print all the subject marks\n",
        "print(std_data[\"subjects_marks\"])\n",
        "#print all the subject marks\n",
        "print(std_data[\"subjects_marks\"][\"sci\"])  # here the dictionary under dictionary is call amd in the under dictionary science marks are\n",
        "#print sum of all the subject marks\n",
        "sum = 0\n",
        "for sub in std_data[\"subjects_marks\"]:\n",
        "  print(sub,std_data[\"subjects_marks\"][sub])\n",
        "  sum = sum + std_data[\"subjects_marks\"][sub]\n",
        "print(sum)"
      ],
      "metadata": {
        "colab": {
          "base_uri": "https://localhost:8080/"
        },
        "id": "97JWyyv9246Y",
        "outputId": "67dc2424-5c5e-4d3d-aed4-25fd60ec9d0f"
      },
      "execution_count": 1,
      "outputs": [
        {
          "output_type": "stream",
          "name": "stdout",
          "text": [
            "<class 'dict'>\n",
            "{'name': 'jagat ', 'age': '25', 'phonenumber': '122233334567888'}\n",
            "jagat \n",
            "25\n",
            "122233334567888\n",
            "\n",
            "name:jagat \n",
            "age:25\n",
            "phonenumber:122233334567888\n",
            "jagat \n",
            "15\n",
            "('A', 'B', 'C')\n",
            "{'math': 90, 'sci': 95, 'eng': 100}\n",
            "95\n",
            "math 90\n",
            "sci 95\n",
            "eng 100\n",
            "285\n"
          ]
        }
      ]
    },
    {
      "cell_type": "code",
      "source": [
        "# lAB CODE = PFC31.1\n",
        "# Task - 1\n",
        "list1 = []\n",
        "noe = int(input())\n",
        "for i in range(noe):\n",
        "  element = int(input())\n",
        "  list1.append(element)\n",
        "sum = 0\n",
        "for i in list1:\n",
        "  sum = sum + i\n",
        "print(f\"Sum of elements: {sum}\")\n"
      ],
      "metadata": {
        "colab": {
          "base_uri": "https://localhost:8080/"
        },
        "id": "zBxP23jCQ25k",
        "outputId": "ad4326e3-765e-4e1b-c804-29dd936a5664"
      },
      "execution_count": null,
      "outputs": [
        {
          "output_type": "stream",
          "name": "stdout",
          "text": [
            "4\n",
            "2\n",
            "3\n",
            "4\n",
            "5\n",
            "Sum of elements: 14\n"
          ]
        }
      ]
    },
    {
      "cell_type": "code",
      "source": [
        "# printing the reverse of a string .\n",
        "def reverse(s):\n",
        "  s = str(input(\"Enter a string: \"))\n",
        "  print(s[::-1])\n",
        "\n",
        "reverse(6)"
      ],
      "metadata": {
        "id": "31ZroTYBIlN7",
        "colab": {
          "base_uri": "https://localhost:8080/"
        },
        "outputId": "05c8f659-e25e-417e-b51d-dff4d1828cab"
      },
      "execution_count": 4,
      "outputs": [
        {
          "output_type": "stream",
          "name": "stdout",
          "text": [
            "Enter a string: hjhdgfd\n",
            "dfgdhjh\n"
          ]
        }
      ]
    },
    {
      "cell_type": "code",
      "source": [
        "def reverse(s):\n",
        "  s = str(input())\n",
        "  print(s[::-1])\n",
        "\n",
        "reverse(1)"
      ],
      "metadata": {
        "colab": {
          "base_uri": "https://localhost:8080/"
        },
        "id": "A0MPqp1kVpzS",
        "outputId": "f28762fc-7b0f-482a-ba8b-68cba36fd7e8"
      },
      "execution_count": null,
      "outputs": [
        {
          "output_type": "stream",
          "name": "stdout",
          "text": [
            "hello\n",
            "olleh\n"
          ]
        }
      ]
    },
    {
      "cell_type": "code",
      "source": [
        "def count_occ(m):\n",
        "  count = 0\n",
        "  s = str(input(\"Enter the string:\"))\n",
        "  alp_cou = str(input(\"Enter the character to count:\"))\n",
        "\n",
        "  for i in s:\n",
        "    if i == alp_cou :\n",
        "      count = count + 1\n",
        "\n",
        "  print(count)\n",
        "\n",
        "count_occ(1)"
      ],
      "metadata": {
        "colab": {
          "base_uri": "https://localhost:8080/"
        },
        "id": "AOcse6X5ZMK3",
        "outputId": "4c5d3047-7b7e-4847-b62e-4ed5bcf6d9b4"
      },
      "execution_count": null,
      "outputs": [
        {
          "output_type": "stream",
          "name": "stdout",
          "text": [
            "Enter the string:fun programming hands on programming.\n",
            "Enter the character to count:m\n",
            "4\n"
          ]
        }
      ]
    }
  ]
}