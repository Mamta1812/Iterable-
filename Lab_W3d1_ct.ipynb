{
  "nbformat": 4,
  "nbformat_minor": 0,
  "metadata": {
    "colab": {
      "provenance": []
    },
    "kernelspec": {
      "name": "python3",
      "display_name": "Python 3"
    },
    "language_info": {
      "name": "python"
    }
  },
  "cells": [
    {
      "cell_type": "markdown",
      "source": [
        "Task 1\n",
        "\n",
        "Revision of collection basics"
      ],
      "metadata": {
        "id": "V9EslHZwzf3p"
      }
    },
    {
      "cell_type": "code",
      "execution_count": null,
      "metadata": {
        "colab": {
          "base_uri": "https://localhost:8080/"
        },
        "id": "jQDm7Ud5zb2x",
        "outputId": "7a4b828b-55c0-4c2e-8e14-f88f89abc7bd"
      },
      "outputs": [
        {
          "output_type": "stream",
          "name": "stdout",
          "text": [
            "<class 'str'>\n",
            "Let us discuss collections\n",
            "t\n",
            "<class 'list'>\n",
            "200\n",
            "[1, 'Apple', 'Two', 20.5, True, 0]\n",
            "<class 'tuple'>\n",
            "459\n",
            "(1, 'ball', 459, 2.89, True, 0)\n",
            "<class 'set'>\n",
            "{2, 3, 4, 'boy', 24, 'Apple'}\n",
            "<class 'dict'>\n",
            "{'Name': 'Shyam', 'age': 30, 'shift': 'second', 'married': 'no'}\n",
            "second\n"
          ]
        }
      ],
      "source": [
        "string1='Let us discuss collections'\n",
        "print(type(string1))\n",
        "print(string1)\n",
        "print(string1[2])\n",
        "# REMOVE THE COMMENT SYMBOL BEFORE NEXT LINE AND TRY TO EXECUTE\n",
        "#string1[2]='ts' #this line returns error\n",
        "\n",
        "\n",
        "\n",
        "list1=[1,'Apple',200, 20.5,True,0]\n",
        "#this is a list of values, lists are mutable\n",
        "print(type(list1))\n",
        "print(list1[2])\n",
        "list1[2]='Two'\n",
        "print(list1)\n",
        "\n",
        "\n",
        "tuple1=(1,'ball',459, 2.89,True,0) #tuples are similar to list, but immutable\n",
        "print(type(tuple1))\n",
        "print(tuple1[2])\n",
        "# REMOVE THE COMMENT SYMBOL BEFORE NEXT LINE AND TRY TO EXECUTE\n",
        "#tuple1[2]='four five nine' #this line returns error\n",
        "print(tuple1)\n",
        "\n",
        "set1={24,24,2,2,3,4,24,'Apple','boy'} # sets are similar to sets in mathematcis, and  mutable. Sets do not have index.\n",
        "print(type(set1))\n",
        "print(set1) #returns only the distinct values\n",
        "# REMOVE THE COMMENT SYMBOL BEFORE NEXT LINE AND TRY TO EXECUTE\n",
        "#print(set1[1])\n",
        "#No meaningful index for elements:\n",
        "#Since there's no order, you can't use an index to retrieve a specific element.\n",
        "\n",
        "\n",
        "dict1={'Name':'Shyam', 'age':30, 'shift':'second', 'married':'no'}\n",
        "print(type(dict1))\n",
        "print(dict1)\n",
        "print(dict1['shift'])\n",
        "# REMOVE THE COMMENT SYMBOL BEFORE NEXT LINE AND TRY TO EXECUTE\n",
        "#print(dict1['Shift']) #gives error as key with capital 'S' in Shift not found\n",
        "\n",
        "# REMOVE THE COMMENT SYMBOL BEFORE NEXT LINE AND TRY TO EXECUTE\n",
        "#print(dict1[0]) #error, dictionaries are not indexable"
      ]
    },
    {
      "cell_type": "markdown",
      "source": [
        "Task 2\n",
        "\n",
        "WAP which accepts 10 numbers from the user, and adds them all to a list."
      ],
      "metadata": {
        "id": "QyGboFiz2qny"
      }
    },
    {
      "cell_type": "code",
      "source": [
        "a = int(input(\"Enter the total number of elements you want in the list.\"))\n",
        "c = []\n",
        "for i in range(a):\n",
        "  b = int(input(\"Enter the elements of the list.\"))\n",
        "  c.append(b)\n",
        "#print(c)\n",
        "import numpy as np\n",
        "d = np.array(c)\n",
        "#print(d)\n",
        "print(f\"maximum value {np.min(d)}\")\n",
        "print(f\"minimum value {np.max(d)}\")\n",
        "e = list(d)\n",
        "#print(e)\n",
        "e[5]= 21\n",
        "print(f\"list after inserting 21 at 5th index {e}\")\n",
        "count = 0\n",
        "for j in e:\n",
        "  if e[5] == j:\n",
        "    count = count + 1\n",
        "print(f\"count of element value at index 5 {count}\")\n",
        "adds = 0\n",
        "for k in e :\n",
        "  adds = adds + k\n",
        "print(f\"Sum of all elements of the list {adds}\")\n",
        "f = e.pop(6)\n",
        "#print(f)\n",
        "print(f\"After popping element at index 6 {e}\")\n",
        "g = [22,31,45,67,89]\n",
        "e.extend(g)\n",
        "print(f\"After adding provided elements to list {e}\")\n",
        "print(f\"Index of 22 {e.index(22)}\")\n",
        "h = e.pop()\n",
        "print(f\"square of last element popped {h*h}\")\n",
        "print(f\"list after popping last element {e}\")\n",
        "print(f\"4th last value {e[-4]}\")\n",
        "print(f\"values between 3rd and 6th position {e[3:7]}\")"
      ],
      "metadata": {
        "colab": {
          "base_uri": "https://localhost:8080/"
        },
        "id": "TXq3e4n92tkL",
        "outputId": "1eb3e968-54da-481e-f28a-1ca5cc270112"
      },
      "execution_count": null,
      "outputs": [
        {
          "output_type": "stream",
          "name": "stdout",
          "text": [
            "Enter the total number of elements you want in the list.10\n",
            "Enter the elements of the list.10\n",
            "Enter the elements of the list.20\n",
            "Enter the elements of the list.30\n",
            "Enter the elements of the list.40\n",
            "Enter the elements of the list.60\n",
            "Enter the elements of the list.70\n",
            "Enter the elements of the list.80\n",
            "Enter the elements of the list.90\n",
            "Enter the elements of the list.100\n",
            "Enter the elements of the list.110\n",
            "[10, 20, 30, 40, 60, 70, 80, 90, 100, 110]\n",
            "[ 10  20  30  40  60  70  80  90 100 110]\n",
            "maximum value 10\n",
            "minimum value 110\n",
            "list after inserting 21 at 5th index [10, 20, 30, 40, 60, 21, 80, 90, 100, 110]\n",
            "count of element value at index 5 1\n",
            "Sum of all elements of the list 561\n",
            "After popping element at index 6 [10, 20, 30, 40, 60, 21, 90, 100, 110]\n",
            "After adding provided elements to list [10, 20, 30, 40, 60, 21, 90, 100, 110, 22, 31, 45, 67, 89]\n",
            "Index of 22 9\n",
            "square of last element popped 7921\n",
            "list after popping last element [10, 20, 30, 40, 60, 21, 90, 100, 110, 22, 31, 45, 67]\n",
            "4th last value 22\n",
            "values between 3rd and 6th position [40, 60, 21, 90]\n"
          ]
        }
      ]
    },
    {
      "cell_type": "markdown",
      "source": [
        "Task 3\n",
        "\n",
        "Working with tuples WAP which accepts 10 numbers from the user, and adds them all to a list.\n",
        "\n",
        "Perform the below actions on the list,\n",
        "\n",
        "Create a tuple from the list of numbers\n",
        "Print the Maximum and Minimum Value in the tuple\n",
        "Print the no. of occurance of element at index 5\n",
        "Print the Sum of all the numbers in the tuple\n",
        "Print the index of value returned at step 3\n",
        "Print the 4th last value\n",
        "Print the values in between 3rd and 6th position"
      ],
      "metadata": {
        "id": "X7pSHqqQnL63"
      }
    },
    {
      "cell_type": "code",
      "source": [
        "a = []\n",
        "for i in range(11):\n",
        "  b = int(input())\n",
        "  a.append(b)\n",
        "#print(a)\n",
        "c = tuple(a)\n",
        "#print(c)\n",
        "d = c[0]\n",
        "for j in c :\n",
        "  if j > d:\n",
        "    d = j\n",
        "print(f\"maximum value {d}\")\n",
        "e = c[0]\n",
        "for k in c :\n",
        "  if k < e:\n",
        "    e = k\n",
        "print(f\"minimum value {e}\")\n",
        "count = 0\n",
        "for l in c:\n",
        "  if c[5] == l:\n",
        "    count = count + 1\n",
        "print(f\"count of element value at index 5 {count}\")\n",
        "adds = 0\n",
        "for m in c :\n",
        "  adds = adds + m\n",
        "print(f\"Sum of all elements of the list {adds}\")\n",
        "print(f\"Index of num {c.index(6)}\")\n",
        "print(f\"4th last value {c[-4]}\")\n",
        "print(f\"values between 3rd and 6th position {c[3:7]}\")\n",
        "\n"
      ],
      "metadata": {
        "colab": {
          "base_uri": "https://localhost:8080/"
        },
        "id": "Cm_9RNulmrr9",
        "outputId": "c137457f-47f4-46f5-ec8c-0ae3c1e1a12f"
      },
      "execution_count": null,
      "outputs": [
        {
          "output_type": "stream",
          "name": "stdout",
          "text": [
            "1\n",
            "2\n",
            "34\n",
            "5\n",
            "6\n",
            "6\n",
            "7\n",
            "8\n",
            "9\n",
            "10\n",
            "11\n",
            "[1, 2, 34, 5, 6, 6, 7, 8, 9, 10, 11]\n",
            "(1, 2, 34, 5, 6, 6, 7, 8, 9, 10, 11)\n",
            "maximum value 34\n",
            "minimum value 1\n",
            "count of element value at index 5 2\n",
            "Sum of all elements of the list 99\n",
            "Index of num 4 4\n",
            "4th last value 8\n",
            "values between 3rd and 6th position (5, 6, 6, 7)\n"
          ]
        }
      ]
    }
  ]
}